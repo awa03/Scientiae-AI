





import numpy
import matplotlib.pyplot as plt

N = 100000
mean = 10.0
standard_deviation = 1

x = numpy.random.normal(mean, standard_deviation, N)

plt.hist(x, 100)
plt.show() 








import matplotlib.pyplot as plt
x = [1, 212, 3123, 3412, 341, 536, 4323, 654, 745] # pseudo random numbers I made up
y = [213, 241, 4643, 98920, 23, 423, 3423, 0, 21]

plt.scatter(x, y)
plt.show()





import matplotlib.pyplot as plt
import random

x = [1, 212, 3123, 3412, 341, 536, 4323, 654, 745] # pseudo random numbers I made up
y = [213, 241, 4643, 98920, 23, 423, 3423, 0, 21]

top = 10000000
bottom = -1000000

for l in range(100000):
    x.append(random.randint(bottom, top))
    y.append(random.randint(bottom, top))

plt.scatter(x, y)
plt.show()








import matplotlib.pyplot as plt
from scipy import stats

x = [5,7,8,7,2,17,2,9,4,11,12,9,6]
y = [99,86,87,88,111,86,103,87,94,78,77,85,86]

slope, intercept, r, p, std_err = stats.linregress(x, y) # calculate the relationship, estimate

print(slope, intercept, r, p)

# try changing this function!
def myfunction(x):
    return slope * x + intercept

mymodel = list(map(myfunction, x))
plt.scatter(x, y)
plt.plot(x, mymodel)
plt.show()








from scipy import stats

slope, intercept, r, p, std_err = stats.linregress(x, y)

def myfunc(x):
  return slope * x + intercept

speed = myfunc(10)

print(speed) 





import numpy
import matplotlib.pyplot as plt

x = [1,2,3,5,6,7,8,9,10,12,13,14,15,16,18,19,21,22]
y = [100,90,80,60,60,55,60,65,70,70,75,76,78,79,90,99,99,100]

mymodel = numpy.poly1d(numpy.polyfit(x, y, 3))

myline = numpy.linspace(1, 22, 100)

plt.scatter(x, y)
plt.plot(myline, mymodel(myline))
plt.show() 





import pandas
from sklearn import linear_model

df = pandas.read_csv("data.csv")

X = df[['Weight', 'Volume']]
y = df['CO2']

regr = linear_model.LinearRegression()
regr.fit(X, y)

#predict the CO2 emission of a car where the weight is 2300kg, and the volume is 1300cm3:
predictedCO2 = regr.predict([[2300, 1300]])

print(predictedCO2) 






