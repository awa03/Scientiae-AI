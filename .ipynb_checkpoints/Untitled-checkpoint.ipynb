{
 "cells": [
  {
   "cell_type": "markdown",
   "id": "085e8149-8854-43f6-8bc1-ccc3693d3b9c",
   "metadata": {},
   "source": [
    "# Artificial Intelligence\n",
    "- Attempts to suplement human intelligence, rather than similate\n",
    "- Rather loose definition\n",
    "- Wide variety of technologies\n",
    "    - Large language models\n",
    "    - Expert systems\n",
    "    - Computer Vision\n",
    "    - And So Much More\n",
    "- My definition: AI can be described as a set of instructions or algorithms designed with built-in knowledge or goals, which guide its processing and decision-making to perform specific tasks.\n",
    "\n",
    "**** \n",
    "\n",
    "## Relevant Terms\n",
    "- __Abstraction__: simplify a complex process hiding unnessicary details, exposing only essential features\n",
    "    - Car Example \n",
    "- __state space__: is the set of all possible states that a system can be in, along with the transitions between these states\n",
    "    - _States_: The possible configurations of the system.\n",
    "    - _Initial State_: The starting point in the state space.\n",
    "    - _Goal State(s)_: The desired end state(s).\n",
    "    - _Actions (Operators)_: The possible transitions between states.\n",
    "    - _Path Cost_: The cost associated with moving from one state to another.\n",
    "- __heuristic__: a problem-solving technique that finds an approximate solution efficiently when exact solutions are computationally expensive or infeasible.\n",
    "    - _Guided Search_: Helps navigate large state spaces efficiently.\n",
    "    - _Trade-off_: Prioritizes speed over guaranteed optimality.\n",
    "    - _Domain-Specific Knowledge_: Often tailored to specific problems.\n",
    "    - _Approximate Solutions_: May not always yield the best solution but improves performance.\n",
    "- __A Search Algorithm example__: Uses a heuristic function (e.g., Manhattan distance in pathfinding) to estimate the cost from the current state to the goal\n",
    "- __Greedy Algorithms__: Make locally optimal choices to find a good overall solution."
   ]
  },
  {
   "cell_type": "markdown",
   "id": "c2363de1-763a-4572-a13d-09430e79e76a",
   "metadata": {},
   "source": [
    "****\n",
    "## Turing Test\n",
    "- Turing Test also known as the Imitation Game essentially seeks to prove if a computer is intelligent. The test consists of two participants as well as the computer. The goal on participant number one is to test if they can differentiate between the computer and a human. This test essentially is attempting to see if a computer can successfully mimic human conversation.\n",
    "    - Not a very good test of intelligence\n",
    "    - Assumes AI is attempting to replicate human intelligence (Anthropocentrism)\n",
    "    - Humans are unreliable thus not a scientific test\n",
    "    - Issues arrive from the various definitions of intelligence\n",
    "- Physical Symbol Hypothesis\n",
    "- Chinese Room argument\n",
    "\n",
    "****"
   ]
  },
  {
   "cell_type": "markdown",
   "id": "016f2442-f14d-4c12-8fb8-a1805a10e89a",
   "metadata": {},
   "source": [
    "# Random Rule Based \"Old Fashioned AI\"\n",
    "Rule-based system, which falls under symbolic AI (or \"good old-fashioned AI\" - GOFAI). It doesn’t learn or generalize but follows pre-programmed heuristics to match inputs to outputs."
   ]
  },
  {
   "cell_type": "code",
   "execution_count": 4,
   "id": "4b28083b-5887-40e7-8ccd-66a181f427be",
   "metadata": {},
   "outputs": [
    {
     "name": "stdin",
     "output_type": "stream",
     "text": [
      "You:  hello\n"
     ]
    },
    {
     "name": "stdout",
     "output_type": "stream",
     "text": [
      "Bot: Hey there!\n"
     ]
    },
    {
     "name": "stdin",
     "output_type": "stream",
     "text": [
      "You:  hello\n"
     ]
    },
    {
     "name": "stdout",
     "output_type": "stream",
     "text": [
      "Bot: Hi!\n"
     ]
    },
    {
     "name": "stdin",
     "output_type": "stream",
     "text": [
      "You:  how are you\n"
     ]
    },
    {
     "name": "stdout",
     "output_type": "stream",
     "text": [
      "Bot: I'm doing well, thanks!\n"
     ]
    },
    {
     "name": "stdin",
     "output_type": "stream",
     "text": [
      "You:  bye\n"
     ]
    },
    {
     "name": "stdout",
     "output_type": "stream",
     "text": [
      "Bot: Goodbye!\n"
     ]
    }
   ],
   "source": [
    "import random\n",
    "\n",
    "responses = {\n",
    "    \"hello\": [\"Hi!\", \"Hello!\", \"Hey there!\"],\n",
    "    \"how are you\": [\"I'm doing well, thanks!\", \"Just a program, but I'm good!\", \"All systems operational!\"],\n",
    "    \"bye\": [\"Goodbye!\", \"See you later!\", \"Take care!\"],\n",
    "}\n",
    "\n",
    "while True:\n",
    "    user_input = input(\"You: \").lower()\n",
    "    if user_input == \"bye\":\n",
    "        print(\"Bot:\", random.choice(responses[\"bye\"]))\n",
    "        break\n",
    "    response = responses.get(user_input, [\"I don't understand.\"])\n",
    "    print(\"Bot:\", random.choice(response))\n"
   ]
  },
  {
   "cell_type": "markdown",
   "id": "4ce63ae8-56ee-4b6e-9303-e6bfdaa0d92c",
   "metadata": {},
   "source": [
    "*****\n",
    "## AI as a Search Algorithm\n",
    "- Consider the game of tic tak toe\n",
    "- How do we think about the game?\n",
    "- Depth First Search\n",
    "    - Search States one at a time sequentially\n",
    "- Breadth First Search\n",
    "    - Search all states at same level  \n",
    "\n",
    "[Tree](tree.png) <br>\n",
    "\n",
    "## Decision Making Algorithms\n",
    "- __Minimax__\n",
    "     - commonly used in 2 player games\n",
    "     - similate all game states to decide best move\n",
    "     - inefficent for large search tree (approximation needed)\n",
    "     - maximize gain, minimize loss\n",
    "     - uses recursive implementation (calls itself) \n",
    "- __N Ply lookahead__\n",
    "\n",
    "[Full Mini Max Tree](full-minimax-move-tree.png)\n",
    "\n",
    "****  "
   ]
  },
  {
   "cell_type": "code",
   "execution_count": 1,
   "id": "09f16d25-626a-4f58-9a82-2be133d6dee2",
   "metadata": {},
   "outputs": [
    {
     "name": "stdout",
     "output_type": "stream",
     "text": [
      "  |   |  \n",
      "  |   |  \n",
      "  |   |  \n",
      "\n",
      "\n"
     ]
    },
    {
     "name": "stdin",
     "output_type": "stream",
     "text": [
      "Enter your move (row col):  1 2\n"
     ]
    },
    {
     "name": "stdout",
     "output_type": "stream",
     "text": [
      "  |   | O\n",
      "  |   | X\n",
      "  |   |  \n",
      "\n",
      "\n"
     ]
    },
    {
     "name": "stdin",
     "output_type": "stream",
     "text": [
      "Enter your move (row col):  2 3\n"
     ]
    },
    {
     "ename": "IndexError",
     "evalue": "list index out of range",
     "output_type": "error",
     "traceback": [
      "\u001b[0;31m---------------------------------------------------------------------------\u001b[0m",
      "\u001b[0;31mIndexError\u001b[0m                                Traceback (most recent call last)",
      "Cell \u001b[0;32mIn[1], line 92\u001b[0m\n\u001b[1;32m     89\u001b[0m             \u001b[38;5;28mprint\u001b[39m(\u001b[38;5;124m\"\u001b[39m\u001b[38;5;124mInvalid move, try again.\u001b[39m\u001b[38;5;124m\"\u001b[39m)\n\u001b[1;32m     91\u001b[0m \u001b[38;5;28;01mif\u001b[39;00m \u001b[38;5;18m__name__\u001b[39m \u001b[38;5;241m==\u001b[39m \u001b[38;5;124m\"\u001b[39m\u001b[38;5;124m__main__\u001b[39m\u001b[38;5;124m\"\u001b[39m:\n\u001b[0;32m---> 92\u001b[0m     \u001b[43mmain\u001b[49m\u001b[43m(\u001b[49m\u001b[43m)\u001b[49m\n",
      "Cell \u001b[0;32mIn[1], line 84\u001b[0m, in \u001b[0;36mmain\u001b[0;34m()\u001b[0m\n\u001b[1;32m     82\u001b[0m     \u001b[38;5;28;01mbreak\u001b[39;00m\n\u001b[1;32m     83\u001b[0m row, col \u001b[38;5;241m=\u001b[39m \u001b[38;5;28mmap\u001b[39m(\u001b[38;5;28mint\u001b[39m, \u001b[38;5;28minput\u001b[39m(\u001b[38;5;124m\"\u001b[39m\u001b[38;5;124mEnter your move (row col): \u001b[39m\u001b[38;5;124m\"\u001b[39m)\u001b[38;5;241m.\u001b[39msplit())\n\u001b[0;32m---> 84\u001b[0m \u001b[38;5;28;01mif\u001b[39;00m \u001b[43mboard\u001b[49m\u001b[43m[\u001b[49m\u001b[43mrow\u001b[49m\u001b[43m]\u001b[49m\u001b[43m[\u001b[49m\u001b[43mcol\u001b[49m\u001b[43m]\u001b[49m \u001b[38;5;241m==\u001b[39m \u001b[38;5;124m\"\u001b[39m\u001b[38;5;124m \u001b[39m\u001b[38;5;124m\"\u001b[39m:\n\u001b[1;32m     85\u001b[0m     board[row][col] \u001b[38;5;241m=\u001b[39m \u001b[38;5;124m\"\u001b[39m\u001b[38;5;124mX\u001b[39m\u001b[38;5;124m\"\u001b[39m\n\u001b[1;32m     86\u001b[0m     \u001b[38;5;28;01mif\u001b[39;00m \u001b[38;5;129;01mnot\u001b[39;00m check_winner(board) \u001b[38;5;129;01mand\u001b[39;00m \u001b[38;5;129;01mnot\u001b[39;00m is_full(board):\n",
      "\u001b[0;31mIndexError\u001b[0m: list index out of range"
     ]
    }
   ],
   "source": [
    "import math\n",
    "\n",
    "# makes the board appear in the console\n",
    "def print_board(board):\n",
    "    for row in board:\n",
    "        print(\" | \".join(row))\n",
    "    print(\"\\n\")\n",
    "\n",
    "# checks win condition has been reached\n",
    "def check_winner(board):\n",
    "    # Check rows\n",
    "    for row in board:\n",
    "        if row[0] == row[1] == row[2] and row[0] != \" \":\n",
    "            return row[0]\n",
    "    \n",
    "    # Check columns\n",
    "    for col in range(3):\n",
    "        if board[0][col] == board[1][col] == board[2][col] and board[0][col] != \" \":\n",
    "            return board[0][col]\n",
    "    \n",
    "    # Check diagonals\n",
    "    if board[0][0] == board[1][1] == board[2][2] and board[0][0] != \" \":\n",
    "        return board[0][0]\n",
    "    \n",
    "    if board[0][2] == board[1][1] == board[2][0] and board[0][2] != \" \":\n",
    "        return board[0][2]\n",
    "    \n",
    "    return None\n",
    "\n",
    "# is the board full (another needed condition)\n",
    "def is_full(board):\n",
    "    return all(cell != \" \" for row in board for cell in row)\n",
    "\n",
    "# algorithm\n",
    "def minimax(board, depth, is_maximizing):\n",
    "    winner = check_winner(board)\n",
    "    if winner == \"O\":\n",
    "        return 1\n",
    "    if winner == \"X\":\n",
    "        return -1\n",
    "    if is_full(board):\n",
    "        return 0\n",
    "    \n",
    "    if is_maximizing:\n",
    "        best_score = -math.inf\n",
    "        for i in range(3):\n",
    "            for j in range(3):\n",
    "                if board[i][j] == \" \":\n",
    "                    board[i][j] = \"O\"\n",
    "                    score = minimax(board, depth + 1, False)\n",
    "                    board[i][j] = \" \"\n",
    "                    best_score = max(score, best_score)\n",
    "        return best_score\n",
    "    else:\n",
    "        best_score = math.inf\n",
    "        for i in range(3):\n",
    "            for j in range(3):\n",
    "                if board[i][j] == \" \":\n",
    "                    board[i][j] = \"X\"\n",
    "                    score = minimax(board, depth + 1, True)\n",
    "                    board[i][j] = \" \"\n",
    "                    best_score = min(score, best_score)\n",
    "        return best_score\n",
    "\n",
    "# calculate the best move to make\n",
    "def best_move(board):\n",
    "    best_score = -math.inf\n",
    "    move = None\n",
    "    for i in range(3):\n",
    "        for j in range(3):\n",
    "            if board[i][j] == \" \":\n",
    "                board[i][j] = \"O\"\n",
    "                score = minimax(board, 0, False)\n",
    "                board[i][j] = \" \"\n",
    "                if score > best_score:\n",
    "                    best_score = score\n",
    "                    move = (i, j)\n",
    "    return move\n",
    "\n",
    "# where program starts\n",
    "def main():\n",
    "    board = [[\" \" for _ in range(3)] for _ in range(3)]\n",
    "    while True:\n",
    "        print_board(board)\n",
    "        \n",
    "        # Check for game end conditions\n",
    "        winner = check_winner(board)\n",
    "        if winner:\n",
    "            print(f\"Winner: {winner}\")\n",
    "            break\n",
    "        if is_full(board):\n",
    "            print(\"It's a tie!\")\n",
    "            break\n",
    "        \n",
    "        # Player's turn\n",
    "        try:\n",
    "            row, col = map(int, input(\"Enter your move (row col): \").split())\n",
    "            if 0 <= row < 3 and 0 <= col < 3 and board[row][col] == \" \":\n",
    "                board[row][col] = \"X\"\n",
    "            else:\n",
    "                print(\"Invalid move, try again.\")\n",
    "                continue\n",
    "        except (ValueError, IndexError):\n",
    "            print(\"Invalid input. Please enter two numbers between 0 and 2.\")\n",
    "            continue\n",
    "        \n",
    "        # Check game state after player's move\n",
    "        winner = check_winner(board)\n",
    "        if winner or is_full(board):\n",
    "            continue\n",
    "        \n",
    "        # AI's turn\n",
    "        ai_move = best_move(board)\n",
    "        if ai_move:\n",
    "            board[ai_move[0]][ai_move[1]] = \"O\"\n",
    "\n",
    "# call start if ran\n",
    "if __name__ == \"__main__\":\n",
    "    main()"
   ]
  },
  {
   "cell_type": "code",
   "execution_count": null,
   "id": "25c1ccc8-35c4-4e37-9317-02d24ec0a411",
   "metadata": {},
   "outputs": [],
   "source": []
  }
 ],
 "metadata": {
  "kernelspec": {
   "display_name": "Python 3 (ipykernel)",
   "language": "python",
   "name": "python3"
  },
  "language_info": {
   "codemirror_mode": {
    "name": "ipython",
    "version": 3
   },
   "file_extension": ".py",
   "mimetype": "text/x-python",
   "name": "python",
   "nbconvert_exporter": "python",
   "pygments_lexer": "ipython3",
   "version": "3.12.3"
  }
 },
 "nbformat": 4,
 "nbformat_minor": 5
}
